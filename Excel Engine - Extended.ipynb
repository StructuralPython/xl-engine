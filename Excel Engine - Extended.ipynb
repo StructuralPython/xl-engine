{
 "cells": [
  {
   "cell_type": "markdown",
   "id": "9b00f6ff-7091-4d95-bb84-7659a0f195e2",
   "metadata": {},
   "source": [
    "# Excel Engine - Extended"
   ]
  },
  {
   "cell_type": "markdown",
   "id": "bf739f4b-4163-49f5-a389-249ad4b15411",
   "metadata": {},
   "source": [
    "Download the zip file from the button below and unzip it into your pycode directory.\n",
    "After you unzip that file, we willl read the analysis results\n",
    "We can do this with three lines of code."
   ]
  },
  {
   "cell_type": "code",
   "execution_count": null,
   "id": "27e01b26-86cf-4d1b-945e-c1d2c80b0795",
   "metadata": {},
   "outputs": [],
   "source": [
    "import csv"
   ]
  },
  {
   "cell_type": "code",
   "execution_count": null,
   "id": "8aeacd82-1fdc-4236-8e55-7dbe939b040b",
   "metadata": {},
   "outputs": [],
   "source": [
    "with open(\"Model Reactions Export - SI.csv\") as file:\n",
    "    file_data = list(csv.reader(file))"
   ]
  },
  {
   "cell_type": "markdown",
   "id": "3e6abf06-c68a-4cde-baaf-54d287f96a69",
   "metadata": {},
   "source": [
    "# My Footing Designs\n",
    "\n",
    "Let's say we need three footing sizes and our job now is to group the factored reactions into working with one of three footing types.\n",
    "This is where we get to do _engineering_! \n",
    "Let's manually review our reactions and get a feel for the forces we are dealing with.\n",
    "Then, let's estimate some footing sizes that we will use for our design."
   ]
  },
  {
   "cell_type": "code",
   "execution_count": null,
   "id": "84295c67-efc9-4f5f-8f80-2a4c0ad01983",
   "metadata": {},
   "outputs": [],
   "source": [
    "from excel_engine import excel_engine"
   ]
  },
  {
   "cell_type": "code",
   "execution_count": null,
   "id": "2fb7ba22-43a1-412a-9ec0-4912646907bc",
   "metadata": {},
   "outputs": [],
   "source": [
    "# L_ftg = E22, b_ftg = E23, d_ftg = E12\n",
    "\n",
    "footing_sizes = {\n",
    "    \"F1\": {\"E22\": 2500, \"E23\": 2500, \"E12\": 400},\n",
    "    \"F2\": {\"E22\": 4000, \"E23\": 4000, \"E12\": 600},\n",
    "    \"F3\": {\"E22\": 6500, \"E23\": 6500, \"E12\": 800},\n",
    "}"
   ]
  },
  {
   "cell_type": "markdown",
   "id": "0c7ff2fb-dbc2-47e0-8bdc-84035fec5687",
   "metadata": {},
   "source": [
    "## Basic"
   ]
  },
  {
   "cell_type": "code",
   "execution_count": null,
   "id": "8b6a0980-3f4e-4ea2-9192-104c8d60ae91",
   "metadata": {},
   "outputs": [],
   "source": [
    "cells_to_retrieve = [\"E31\", \"E70\"] # Soil bearing, one-way shear check\n",
    "\n",
    "for line in file_data[1:]:\n",
    "    reaction_id = line[1]\n",
    "    # E17: Pf, E18: Vf, E19: Mf\n",
    "    spreadsheet_inputs = {\"E18\": line[6], \"E19\": line[10], \"E17\": line[8]}\n",
    "    \n",
    "    if line[5] == \"Min\":\n",
    "        continue\n",
    "    \n",
    "    for footing_tag, footing_size in footing_sizes.items():\n",
    "        spreadsheet_inputs = spreadsheet_inputs | footing_size\n",
    "        calculated_results = excel_engine(\"Eccentric Concrete Footing.xlsx\", cells_to_change=spreadsheet_inputs, cells_to_retrieve=cells_to_retrieve)\n",
    "        bearing_ratio, shear_ratio = calculated_results\n",
    "        if bearing_ratio <= 1 and shear_ratio <= 1:\n",
    "            excel_engine(\"Eccentric Concrete Footing.xlsx\", cells_to_change=spreadsheet_inputs, cells_to_retrieve=cells_to_retrieve,\n",
    "                new_file_name=f\"Design files/Eccentric Concrete Footing Design - Pedestal {reaction_id} - {footing_tag}.xlsx\"\n",
    "            )\n",
    "            break"
   ]
  },
  {
   "cell_type": "markdown",
   "id": "d69521ab-1cf6-4a58-9295-f6393dc7358a",
   "metadata": {},
   "source": [
    "## Extended"
   ]
  },
  {
   "cell_type": "code",
   "execution_count": null,
   "id": "870f51f0-6301-4db5-a581-c64df2c779f4",
   "metadata": {},
   "outputs": [],
   "source": [
    "from eng_module.utils import str_to_float\n",
    "from excel_engine import excel_engine\n",
    "import operator\n",
    "import csv\n",
    "from typing import Optional\n",
    "import pathlib\n",
    "\n",
    "\n",
    "def parse_table(filepath: str) -> list[list[str]]:\n",
    "    \"\"\"\n",
    "    Returns a list[list[str]] representing data in a table. All numeric values\n",
    "    are converted to floats\n",
    "    \"\"\"\n",
    "    with open(filepath) as file:\n",
    "        line_acc = []\n",
    "        for line in csv.reader(file):\n",
    "            cell_acc = []\n",
    "            for cell in line:\n",
    "                cell_acc.append(str_to_float(cell))\n",
    "            line_acc.append(cell_acc)\n",
    "    return line_acc\n",
    "\n",
    "\n",
    "def extract_table_columns(\n",
    "    table_data: list[list[str | float]],\n",
    "    column_indexes: list[int], \n",
    "    column_headers: Optional[list[str]] = None\n",
    ") -> dict[str, list[str | float]]:\n",
    "    \"\"\"\n",
    "    Returns a dictionary of column values extracted from 'table_data'\n",
    "\n",
    "    'table_data': A list of lists representing a table by records\n",
    "    'column_indexes': A list of integers representing the columns to extract from each record\n",
    "    'column_headers': A list of str representing what the keys of the dictionary should be for each column\n",
    "        If not supplied, the column headers are used as keys.\n",
    "    \"\"\"\n",
    "    table_data_no_headers = table_data[1:]\n",
    "    transposed_table = list(zip(*table_data_no_headers))\n",
    "    extraction_acc = {}\n",
    "    if column_headers is None:\n",
    "        column_headers = table_data[0]\n",
    "    for pos_idx, column_index in enumerate(column_indexes):\n",
    "        extraction_acc.update({column_headers[pos_idx]: transposed_table[column_index]})\n",
    "    return extraction_acc\n",
    "    \n",
    "\n",
    "def create_condition_check(check_against_value: float, op: str) -> callable:\n",
    "    \"\"\"\n",
    "    Returns a function with a single numerical input parameter.\n",
    "    The function returns a boolean corresponding to whether the \n",
    "    single numerical argument passed to it meets the condition\n",
    "    encoded in the function.\n",
    "\n",
    "    'check_against_value' the value that will be encoded in the function\n",
    "        to check against.\n",
    "    'op': str, one of {\"ge\", \"le\", \"gt\", \"lt\", \"eq\", \"ne\"}\n",
    "    \"\"\"\n",
    "    operators = {\n",
    "        \"ge\": operator.ge,\n",
    "        \"le\": operator.le,\n",
    "        \"gt\": operator.gt,\n",
    "        \"lt\": operator.lt,\n",
    "        \"eq\": operator.eq,\n",
    "        \"ne\": operator.ne,\n",
    "    }\n",
    "    def checker(test_value):\n",
    "        return operators[op](test_value, check_against_value)\n",
    "\n",
    "    return checker\n",
    "    \n",
    "\n",
    "def excel_runner(\n",
    "    xlsx_filepath,\n",
    "    demand_input_cell_arrays: dict[str, list],\n",
    "    identifier_cell_arrays: dict[str, list],\n",
    "    design_inputs: dict[str, dict[str, float]],\n",
    "    result_cells: list[str],\n",
    "    save_conditions: dict[str, callable],\n",
    "    save_dir: Optional[str] = None,\n",
    "    sheet_idx: int = 0\n",
    ") -> None:\n",
    "    demand_cell_ids = list(demand_input_cell_arrays.keys())\n",
    "    iterations = len(demand_input_cell_arrays[demand_cell_ids[0]])\n",
    "    for iteration in range(iterations):\n",
    "        demand_cells_to_change = {cell_id: demand_input_cell_arrays[cell_id][iteration] for cell_id in demand_cell_ids}\n",
    "        for design_tag, design_cells_to_change in design_inputs.items():\n",
    "            cells_to_change = demand_cells_to_change | design_cells_to_change\n",
    "            calculated_results = excel_engine(\n",
    "                xlsx_filepath, \n",
    "                cells_to_change=cells_to_change,\n",
    "                cells_to_retrieve=result_cells,\n",
    "                sheet_idx=sheet_idx\n",
    "            )\n",
    "        \n",
    "            save_condition_acc = []\n",
    "            for idx, result_cell_id in enumerate(result_cells):\n",
    "                calculated_result = calculated_results[idx]\n",
    "                save_condition_acc.append(save_conditions[result_cell_id](calculated_result))\n",
    "            \n",
    "            if all(save_condition_acc):\n",
    "                filepath = pathlib.Path(xlsx_filepath)\n",
    "                name = filepath.stem\n",
    "                suffix = filepath.suffix\n",
    "                demand_ids = \"-\".join([id_array[iteration] for id_array in identifier_cell_arrays])\n",
    "                \n",
    "                new_filename = f\"{name}-{demand_ids}-{design_tag}.{suffix}\"\n",
    "                save_dir_path = pathlib.Path(save_dir)\n",
    "                if not save_dir_path.exists():\n",
    "                    save_dir_path.mkdir(parents=True)\n",
    "                calculated_results = excel_engine(\n",
    "                    xlsx_filepath, \n",
    "                    cells_to_change=cells_to_change,\n",
    "                    cells_to_retrieve=result_cells,\n",
    "                    sheet_idx=sheet_idx,\n",
    "                    new_filename=f\"{str(save_dir)}/{new_filename}\"\n",
    "                )\n",
    "                break"
   ]
  },
  {
   "cell_type": "code",
   "execution_count": null,
   "id": "454c981c-903d-4133-89d9-69e813fd6bd7",
   "metadata": {},
   "outputs": [],
   "source": [
    "table_data = parse_table(\"Model Reactions Export - SI.csv\")\n",
    "demand_data = extract_table_columns(table_data, [8, 6, 10], [\"E17\", \"E18\", \"E19\"])\n",
    "identifier_data = extract_table_columns(table_data, [1, 5])\n",
    "dcr_check = create_condition_check(1.0, \"le\")\n",
    "footing_sizes = {\n",
    "    \"F1\": {\"E22\": 2500, \"E23\": 2500, \"E12\": 400},\n",
    "    \"F2\": {\"E22\": 4000, \"E23\": 4000, \"E12\": 600},\n",
    "    \"F3\": {\"E22\": 6500, \"E23\": 6500, \"E12\": 800},\n",
    "}\n",
    "cells_to_retrieve = [\"E31\", \"E70\"]\n",
    "\n",
    "save_conditions = {cell_id: dcr_check for cell_id in cells_to_retrieve}\n",
    "\n",
    "excel_runner(\n",
    "    \"Eccentric Concrete Footing.xlsx\",\n",
    "    demand_data,\n",
    "    identifier_data,\n",
    "    design_inputs=footing_sizes,\n",
    "    result_cells=cells_to_retrieve,\n",
    "    save_conditions=save_conditions,\n",
    "    save_dir = \"design\",\n",
    ")\n",
    "\n"
   ]
  }
 ],
 "metadata": {
  "kernelspec": {
   "display_name": "Python 3 (pfse)",
   "language": "python",
   "name": "pfse"
  },
  "language_info": {
   "codemirror_mode": {
    "name": "ipython",
    "version": 3
   },
   "file_extension": ".py",
   "mimetype": "text/x-python",
   "name": "python",
   "nbconvert_exporter": "python",
   "pygments_lexer": "ipython3",
   "version": "3.12.7"
  }
 },
 "nbformat": 4,
 "nbformat_minor": 5
}
